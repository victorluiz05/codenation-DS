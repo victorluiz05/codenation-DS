{
 "cells": [
  {
   "cell_type": "code",
   "execution_count": 90,
   "metadata": {},
   "outputs": [],
   "source": [
    "import pandas as pd\n",
    "import numpy as np"
   ]
  },
  {
   "cell_type": "code",
   "execution_count": 3,
   "metadata": {},
   "outputs": [],
   "source": [
    "df = pd.read_csv('desafio1.csv')"
   ]
  },
  {
   "cell_type": "code",
   "execution_count": 4,
   "metadata": {},
   "outputs": [
    {
     "output_type": "execute_result",
     "data": {
      "text/plain": "   RowNumber                                        id  \\\n0          1  e7f44fcbd380d4cef7e6c232cc7e37895c3fd197   \n1          2  28dcb083ad90512da16b9430085c2cddb8ca5e12   \n2          3  774bc378f787438c9c7594e536787d07a097a54b   \n3          4  043a71326f7096de155e7f0c559dc62b5e4b7239   \n4          5  37b3bb8ca243955fb3605ec7e1c2a4607cdb3b22   \n\n                                  sobrenome  pontuacao_credito  \\\n0  6d6e0aa1b9b413e442e2fb68df14b4fc3f91de50                619   \n1  48e1ad846796fa314f1b4a6702b83343eb5482c5                608   \n2  f2b29d5d934de615812b697132e767dea0f1e9e2                502   \n3  85d5c9da7cddd8109ad32a6c348fe2bb10bf99f2                699   \n4  ddc89c837a6933639de75f28171057060bd322df                850   \n\n  estado_residencia genero  idade  nivel_estabilidade  saldo_conta  \\\n0                SC      F     42                   2         0.00   \n1                RS      F     41                   1     83807.86   \n2                SC      F     42                   8    159660.80   \n3                SC      F     39                   1         0.00   \n4                RS      F     43                   2    125510.82   \n\n   numero_produtos  possui_cartao_de_credito  membro_ativo  \n0                1                         1             1  \n1                1                         0             1  \n2                3                         1             0  \n3                2                         0             0  \n4                1                         1             1  ",
      "text/html": "<div>\n<style scoped>\n    .dataframe tbody tr th:only-of-type {\n        vertical-align: middle;\n    }\n\n    .dataframe tbody tr th {\n        vertical-align: top;\n    }\n\n    .dataframe thead th {\n        text-align: right;\n    }\n</style>\n<table border=\"1\" class=\"dataframe\">\n  <thead>\n    <tr style=\"text-align: right;\">\n      <th></th>\n      <th>RowNumber</th>\n      <th>id</th>\n      <th>sobrenome</th>\n      <th>pontuacao_credito</th>\n      <th>estado_residencia</th>\n      <th>genero</th>\n      <th>idade</th>\n      <th>nivel_estabilidade</th>\n      <th>saldo_conta</th>\n      <th>numero_produtos</th>\n      <th>possui_cartao_de_credito</th>\n      <th>membro_ativo</th>\n    </tr>\n  </thead>\n  <tbody>\n    <tr>\n      <th>0</th>\n      <td>1</td>\n      <td>e7f44fcbd380d4cef7e6c232cc7e37895c3fd197</td>\n      <td>6d6e0aa1b9b413e442e2fb68df14b4fc3f91de50</td>\n      <td>619</td>\n      <td>SC</td>\n      <td>F</td>\n      <td>42</td>\n      <td>2</td>\n      <td>0.00</td>\n      <td>1</td>\n      <td>1</td>\n      <td>1</td>\n    </tr>\n    <tr>\n      <th>1</th>\n      <td>2</td>\n      <td>28dcb083ad90512da16b9430085c2cddb8ca5e12</td>\n      <td>48e1ad846796fa314f1b4a6702b83343eb5482c5</td>\n      <td>608</td>\n      <td>RS</td>\n      <td>F</td>\n      <td>41</td>\n      <td>1</td>\n      <td>83807.86</td>\n      <td>1</td>\n      <td>0</td>\n      <td>1</td>\n    </tr>\n    <tr>\n      <th>2</th>\n      <td>3</td>\n      <td>774bc378f787438c9c7594e536787d07a097a54b</td>\n      <td>f2b29d5d934de615812b697132e767dea0f1e9e2</td>\n      <td>502</td>\n      <td>SC</td>\n      <td>F</td>\n      <td>42</td>\n      <td>8</td>\n      <td>159660.80</td>\n      <td>3</td>\n      <td>1</td>\n      <td>0</td>\n    </tr>\n    <tr>\n      <th>3</th>\n      <td>4</td>\n      <td>043a71326f7096de155e7f0c559dc62b5e4b7239</td>\n      <td>85d5c9da7cddd8109ad32a6c348fe2bb10bf99f2</td>\n      <td>699</td>\n      <td>SC</td>\n      <td>F</td>\n      <td>39</td>\n      <td>1</td>\n      <td>0.00</td>\n      <td>2</td>\n      <td>0</td>\n      <td>0</td>\n    </tr>\n    <tr>\n      <th>4</th>\n      <td>5</td>\n      <td>37b3bb8ca243955fb3605ec7e1c2a4607cdb3b22</td>\n      <td>ddc89c837a6933639de75f28171057060bd322df</td>\n      <td>850</td>\n      <td>RS</td>\n      <td>F</td>\n      <td>43</td>\n      <td>2</td>\n      <td>125510.82</td>\n      <td>1</td>\n      <td>1</td>\n      <td>1</td>\n    </tr>\n  </tbody>\n</table>\n</div>"
     },
     "metadata": {},
     "execution_count": 4
    }
   ],
   "source": [
    "df.head()"
   ]
  },
  {
   "cell_type": "code",
   "execution_count": 4,
   "metadata": {},
   "outputs": [
    {
     "data": {
      "text/html": [
       "<div>\n",
       "<style scoped>\n",
       "    .dataframe tbody tr th:only-of-type {\n",
       "        vertical-align: middle;\n",
       "    }\n",
       "\n",
       "    .dataframe tbody tr th {\n",
       "        vertical-align: top;\n",
       "    }\n",
       "\n",
       "    .dataframe thead th {\n",
       "        text-align: right;\n",
       "    }\n",
       "</style>\n",
       "<table border=\"1\" class=\"dataframe\">\n",
       "  <thead>\n",
       "    <tr style=\"text-align: right;\">\n",
       "      <th></th>\n",
       "      <th>RowNumber</th>\n",
       "      <th>pontuacao_credito</th>\n",
       "      <th>idade</th>\n",
       "      <th>nivel_estabilidade</th>\n",
       "      <th>saldo_conta</th>\n",
       "      <th>numero_produtos</th>\n",
       "      <th>possui_cartao_de_credito</th>\n",
       "      <th>membro_ativo</th>\n",
       "    </tr>\n",
       "  </thead>\n",
       "  <tbody>\n",
       "    <tr>\n",
       "      <th>count</th>\n",
       "      <td>7000.000000</td>\n",
       "      <td>7000.000000</td>\n",
       "      <td>7000.000000</td>\n",
       "      <td>7000.000000</td>\n",
       "      <td>7000.000000</td>\n",
       "      <td>7000.000000</td>\n",
       "      <td>7000.000000</td>\n",
       "      <td>7000.000000</td>\n",
       "    </tr>\n",
       "    <tr>\n",
       "      <th>mean</th>\n",
       "      <td>3500.500000</td>\n",
       "      <td>649.787000</td>\n",
       "      <td>38.892714</td>\n",
       "      <td>5.010286</td>\n",
       "      <td>76471.883751</td>\n",
       "      <td>1.526000</td>\n",
       "      <td>0.703286</td>\n",
       "      <td>0.512143</td>\n",
       "    </tr>\n",
       "    <tr>\n",
       "      <th>std</th>\n",
       "      <td>2020.870275</td>\n",
       "      <td>97.046279</td>\n",
       "      <td>10.465562</td>\n",
       "      <td>2.887500</td>\n",
       "      <td>62403.383911</td>\n",
       "      <td>0.583047</td>\n",
       "      <td>0.456842</td>\n",
       "      <td>0.499888</td>\n",
       "    </tr>\n",
       "    <tr>\n",
       "      <th>min</th>\n",
       "      <td>1.000000</td>\n",
       "      <td>350.000000</td>\n",
       "      <td>18.000000</td>\n",
       "      <td>0.000000</td>\n",
       "      <td>0.000000</td>\n",
       "      <td>1.000000</td>\n",
       "      <td>0.000000</td>\n",
       "      <td>0.000000</td>\n",
       "    </tr>\n",
       "    <tr>\n",
       "      <th>25%</th>\n",
       "      <td>1750.750000</td>\n",
       "      <td>582.000000</td>\n",
       "      <td>32.000000</td>\n",
       "      <td>3.000000</td>\n",
       "      <td>0.000000</td>\n",
       "      <td>1.000000</td>\n",
       "      <td>0.000000</td>\n",
       "      <td>0.000000</td>\n",
       "    </tr>\n",
       "    <tr>\n",
       "      <th>50%</th>\n",
       "      <td>3500.500000</td>\n",
       "      <td>651.000000</td>\n",
       "      <td>37.000000</td>\n",
       "      <td>5.000000</td>\n",
       "      <td>97277.130000</td>\n",
       "      <td>1.000000</td>\n",
       "      <td>1.000000</td>\n",
       "      <td>1.000000</td>\n",
       "    </tr>\n",
       "    <tr>\n",
       "      <th>75%</th>\n",
       "      <td>5250.250000</td>\n",
       "      <td>717.000000</td>\n",
       "      <td>44.000000</td>\n",
       "      <td>7.250000</td>\n",
       "      <td>127537.155000</td>\n",
       "      <td>2.000000</td>\n",
       "      <td>1.000000</td>\n",
       "      <td>1.000000</td>\n",
       "    </tr>\n",
       "    <tr>\n",
       "      <th>max</th>\n",
       "      <td>7000.000000</td>\n",
       "      <td>850.000000</td>\n",
       "      <td>92.000000</td>\n",
       "      <td>10.000000</td>\n",
       "      <td>250898.090000</td>\n",
       "      <td>4.000000</td>\n",
       "      <td>1.000000</td>\n",
       "      <td>1.000000</td>\n",
       "    </tr>\n",
       "  </tbody>\n",
       "</table>\n",
       "</div>"
      ],
      "text/plain": [
       "         RowNumber  pontuacao_credito        idade  nivel_estabilidade  \\\n",
       "count  7000.000000        7000.000000  7000.000000         7000.000000   \n",
       "mean   3500.500000         649.787000    38.892714            5.010286   \n",
       "std    2020.870275          97.046279    10.465562            2.887500   \n",
       "min       1.000000         350.000000    18.000000            0.000000   \n",
       "25%    1750.750000         582.000000    32.000000            3.000000   \n",
       "50%    3500.500000         651.000000    37.000000            5.000000   \n",
       "75%    5250.250000         717.000000    44.000000            7.250000   \n",
       "max    7000.000000         850.000000    92.000000           10.000000   \n",
       "\n",
       "         saldo_conta  numero_produtos  possui_cartao_de_credito  membro_ativo  \n",
       "count    7000.000000      7000.000000               7000.000000   7000.000000  \n",
       "mean    76471.883751         1.526000                  0.703286      0.512143  \n",
       "std     62403.383911         0.583047                  0.456842      0.499888  \n",
       "min         0.000000         1.000000                  0.000000      0.000000  \n",
       "25%         0.000000         1.000000                  0.000000      0.000000  \n",
       "50%     97277.130000         1.000000                  1.000000      1.000000  \n",
       "75%    127537.155000         2.000000                  1.000000      1.000000  \n",
       "max    250898.090000         4.000000                  1.000000      1.000000  "
      ]
     },
     "execution_count": 4,
     "metadata": {},
     "output_type": "execute_result"
    }
   ],
   "source": [
    "df.describe()"
   ]
  },
  {
   "cell_type": "code",
   "execution_count": 5,
   "metadata": {},
   "outputs": [
    {
     "data": {
      "text/plain": [
       "Index(['RowNumber', 'id', 'sobrenome', 'pontuacao_credito',\n",
       "       'estado_residencia', 'genero', 'idade', 'nivel_estabilidade',\n",
       "       'saldo_conta', 'numero_produtos', 'possui_cartao_de_credito',\n",
       "       'membro_ativo'],\n",
       "      dtype='object')"
      ]
     },
     "execution_count": 5,
     "metadata": {},
     "output_type": "execute_result"
    }
   ],
   "source": [
    "df.columns"
   ]
  },
  {
   "cell_type": "code",
   "execution_count": 98,
   "metadata": {},
   "outputs": [],
   "source": [
    "media = list(df.groupby('estado_residencia')['pontuacao_credito'].mean())"
   ]
  },
  {
   "cell_type": "code",
   "execution_count": 99,
   "metadata": {},
   "outputs": [],
   "source": [
    "mediana = list(df.groupby('estado_residencia')['pontuacao_credito'].median())"
   ]
  },
  {
   "cell_type": "code",
   "execution_count": 102,
   "metadata": {},
   "outputs": [],
   "source": [
    "desvio_padrao = list(df.groupby('estado_residencia')['pontuacao_credito'].std())"
   ]
  },
  {
   "cell_type": "code",
   "execution_count": 101,
   "metadata": {},
   "outputs": [],
   "source": [
    "moda = list(df.groupby('estado_residencia')['pontuacao_credito'].agg(pd.Series.mode))"
   ]
  },
  {
   "cell_type": "code",
   "execution_count": 111,
   "metadata": {},
   "outputs": [
    {
     "output_type": "execute_result",
     "data": {
      "text/plain": "648.9612940496822"
     },
     "metadata": {},
     "execution_count": 111
    }
   ],
   "source": [
    "media[0]"
   ]
  },
  {
   "cell_type": "code",
   "execution_count": 21,
   "metadata": {},
   "outputs": [
    {
     "output_type": "execute_result",
     "data": {
      "text/plain": "estado_residencia\nPR    850\nRS    850\nSC    850\nName: pontuacao_credito, dtype: int64"
     },
     "metadata": {},
     "execution_count": 21
    }
   ],
   "source": [
    "df.groupby('estado_residencia')['pontuacao_credito'].agg(lambda x:x.value_counts().index[0])"
   ]
  },
  {
   "cell_type": "code",
   "execution_count": 115,
   "metadata": {},
   "outputs": [],
   "source": [
    "respostas = pd.DataFrame(\n",
    "    {\n",
    "        \"PR\": [moda[0], mediana[0], media[0], desvio_padrao[0]],\n",
    "        \"RS\": [moda[1], mediana[1], media[1], desvio_padrao[1]],\n",
    "        \"SC\": [moda[2], mediana[2], media[2], desvio_padrao[2]]\n",
    "    }, index = ['moda', 'mediana', 'media', 'desvio_padrao' ]\n",
    ")"
   ]
  },
  {
   "cell_type": "code",
   "execution_count": 116,
   "metadata": {},
   "outputs": [
    {
     "output_type": "execute_result",
     "data": {
      "text/plain": "                       PR          RS          SC\nmoda           850.000000  850.000000  850.000000\nmediana        650.000000  650.000000  653.000000\nmedia          648.961294  651.105143  649.537653\ndesvio_padrao   98.607186   95.136598   97.233493",
      "text/html": "<div>\n<style scoped>\n    .dataframe tbody tr th:only-of-type {\n        vertical-align: middle;\n    }\n\n    .dataframe tbody tr th {\n        vertical-align: top;\n    }\n\n    .dataframe thead th {\n        text-align: right;\n    }\n</style>\n<table border=\"1\" class=\"dataframe\">\n  <thead>\n    <tr style=\"text-align: right;\">\n      <th></th>\n      <th>PR</th>\n      <th>RS</th>\n      <th>SC</th>\n    </tr>\n  </thead>\n  <tbody>\n    <tr>\n      <th>moda</th>\n      <td>850.000000</td>\n      <td>850.000000</td>\n      <td>850.000000</td>\n    </tr>\n    <tr>\n      <th>mediana</th>\n      <td>650.000000</td>\n      <td>650.000000</td>\n      <td>653.000000</td>\n    </tr>\n    <tr>\n      <th>media</th>\n      <td>648.961294</td>\n      <td>651.105143</td>\n      <td>649.537653</td>\n    </tr>\n    <tr>\n      <th>desvio_padrao</th>\n      <td>98.607186</td>\n      <td>95.136598</td>\n      <td>97.233493</td>\n    </tr>\n  </tbody>\n</table>\n</div>"
     },
     "metadata": {},
     "execution_count": 116
    }
   ],
   "source": [
    "respostas.head()"
   ]
  },
  {
   "cell_type": "code",
   "execution_count": 118,
   "metadata": {},
   "outputs": [],
   "source": [
    "respostas.to_json('submission.json')"
   ]
  }
 ],
 "metadata": {
  "kernelspec": {
   "display_name": "Python 3.7.6 64-bit",
   "language": "python",
   "name": "python37664bit5144c14838d04750b5575ecdf3715b27"
  },
  "language_info": {
   "codemirror_mode": {
    "name": "ipython",
    "version": 3
   },
   "file_extension": ".py",
   "mimetype": "text/x-python",
   "name": "python",
   "nbconvert_exporter": "python",
   "pygments_lexer": "ipython3",
   "version": "3.7.6-final"
  }
 },
 "nbformat": 4,
 "nbformat_minor": 2
}